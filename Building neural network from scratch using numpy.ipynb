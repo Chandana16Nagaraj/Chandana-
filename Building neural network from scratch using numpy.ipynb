{
 "cells": [
  {
   "cell_type": "code",
   "execution_count": 1,
   "id": "5cbf921a",
   "metadata": {},
   "outputs": [],
   "source": [
    "# Creating data set\n",
    "\n",
    "# A\n",
    "a =[0, 0, 1, 1, 0, 0,\n",
    "0, 1, 0, 0, 1, 0,\n",
    "1, 1, 1, 1, 1, 1,\n",
    "1, 0, 0, 0, 0, 1,\n",
    "1, 0, 0, 0, 0, 1]\n",
    "# B\n",
    "b =[0, 1, 1, 1, 1, 0,\n",
    "0, 1, 0, 0, 1, 0,\n",
    "0, 1, 1, 1, 1, 0,\n",
    "0, 1, 0, 0, 1, 0,\n",
    "0, 1, 1, 1, 1, 0]\n",
    "# C\n",
    "c =[0, 1, 1, 1, 1, 0,\n",
    "0, 1, 0, 0, 0, 0,\n",
    "0, 1, 0, 0, 0, 0,\n",
    "0, 1, 0, 0, 0, 0,\n",
    "0, 1, 1, 1, 1, 0]\n",
    "\n",
    "# Creating labels\n",
    "y =[[1, 0, 0],\n",
    "[0, 1, 0],\n",
    "[0, 0, 1]]\n"
   ]
  },
  {
   "cell_type": "code",
   "execution_count": 2,
   "id": "9f6262d3",
   "metadata": {},
   "outputs": [
    {
     "data": {
      "image/png": "[encoded data removed]",
      "text/plain": [
       "<Figure size 640x480 with 1 Axes>"
      ]
     },
     "metadata": {},
     "output_type": "display_data"
    }
   ],
   "source": [
    "import numpy as np\n",
    "import matplotlib.pyplot as plt\n",
    "# visualizing the data, plotting A.\n",
    "plt.imshow(np.array(a).reshape(5, 6))\n",
    "plt.show()\n"
   ]
  },
  {
   "cell_type": "code",
   "execution_count": 3,
   "id": "53afa54b",
   "metadata": {},
   "outputs": [
    {
     "name": "stdout",
     "output_type": "stream",
     "text": [
      "[array([[0, 0, 1, 1, 0, 0, 0, 1, 0, 0, 1, 0, 1, 1, 1, 1, 1, 1, 1, 0, 0, 0,\n",
      "        0, 1, 1, 0, 0, 0, 0, 1]]), array([[0, 1, 1, 1, 1, 0, 0, 1, 0, 0, 1, 0, 0, 1, 1, 1, 1, 0, 0, 1, 0, 0,\n",
      "        1, 0, 0, 1, 1, 1, 1, 0]]), array([[0, 1, 1, 1, 1, 0, 0, 1, 0, 0, 0, 0, 0, 1, 0, 0, 0, 0, 0, 1, 0, 0,\n",
      "        0, 0, 0, 1, 1, 1, 1, 0]])] \n",
      "\n",
      " [[1 0 0]\n",
      " [0 1 0]\n",
      " [0 0 1]]\n"
     ]
    }
   ],
   "source": [
    "# converting data and labels into numpy array\n",
    "\n",
    "\"\"\"\n",
    "Convert the matrix of 0 and 1 into one hot vector \n",
    "so that we can directly feed it to the neural network,\n",
    "these vectors are then stored in a list x.\n",
    "\"\"\"\n",
    "\n",
    "x =[np.array(a).reshape(1, 30), np.array(b).reshape(1, 30), \n",
    "\t\t\t\t\t\t\t\tnp.array(c).reshape(1, 30)]\n",
    "\n",
    "\n",
    "# Labels are also converted into NumPy array\n",
    "y = np.array(y)\n",
    "\n",
    "\n",
    "print(x, \"\\n\\n\", y)\n"
   ]
  },
  {
   "cell_type": "code",
   "execution_count": 4,
   "id": "19b77a53",
   "metadata": {},
   "outputs": [],
   "source": [
    "# activation function\n",
    "\n",
    "def sigmoid(x):\n",
    "\treturn(1/(1 + np.exp(-x)))\n",
    "\n",
    "# Creating the Feed forward neural network\n",
    "# 1 Input layer(1, 30)\n",
    "# 1 hidden layer (1, 5)\n",
    "# 1 output layer(3, 3)\n",
    "\n",
    "def f_forward(x, w1, w2):\n",
    "\t# hidden\n",
    "\tz1 = x.dot(w1)# input from layer 1 \n",
    "\ta1 = sigmoid(z1)# out put of layer 2 \n",
    "\t\n",
    "\t# Output layer\n",
    "\tz2 = a1.dot(w2)# input of out layer\n",
    "\ta2 = sigmoid(z2)# output of out layer\n",
    "\treturn(a2)\n",
    "\n",
    "# initializing the weights randomly\n",
    "def generate_wt(x, y):\n",
    "\tl =[]\n",
    "\tfor i in range(x * y):\n",
    "\t\tl.append(np.random.randn())\n",
    "\treturn(np.array(l).reshape(x, y))\n",
    "\t\n",
    "# for loss we will be using mean square error(MSE)\n",
    "def loss(out, Y):\n",
    "\ts =(np.square(out-Y))\n",
    "\ts = np.sum(s)/len(y)\n",
    "\treturn(s)\n",
    "\n",
    "# Back propagation of error \n",
    "def back_prop(x, y, w1, w2, alpha):\n",
    "\t\n",
    "\t# hidden layer\n",
    "\tz1 = x.dot(w1)# input from layer 1 \n",
    "\ta1 = sigmoid(z1)# output of layer 2 \n",
    "\t\n",
    "\t# Output layer\n",
    "\tz2 = a1.dot(w2)# input of out layer\n",
    "\ta2 = sigmoid(z2)# output of out layer\n",
    "\t# error in output layer\n",
    "\td2 =(a2-y)\n",
    "\td1 = np.multiply((w2.dot((d2.transpose()))).transpose(), \n",
    "\t\t\t\t\t\t\t\t(np.multiply(a1, 1-a1)))\n",
    "\n",
    "\t# Gradient for w1 and w2\n",
    "\tw1_adj = x.transpose().dot(d1)\n",
    "\tw2_adj = a1.transpose().dot(d2)\n",
    "\t\n",
    "\t# Updating parameters\n",
    "\tw1 = w1-(alpha*(w1_adj))\n",
    "\tw2 = w2-(alpha*(w2_adj))\n",
    "\t\n",
    "\treturn(w1, w2)\n",
    "\n",
    "def train(x, Y, w1, w2, alpha = 0.01, epoch = 10):\n",
    "\tacc =[]\n",
    "\tlosss =[]\n",
    "\tfor j in range(epoch):\n",
    "\t\tl =[]\n",
    "\t\tfor i in range(len(x)):\n",
    "\t\t\tout = f_forward(x[i], w1, w2)\n",
    "\t\t\tl.append((loss(out, Y[i])))\n",
    "\t\t\tw1, w2 = back_prop(x[i], y[i], w1, w2, alpha)\n",
    "\t\tprint(\"epochs:\", j + 1, \"======== acc:\", (1-(sum(l)/len(x)))*100) \n",
    "\t\tacc.append((1-(sum(l)/len(x)))*100)\n",
    "\t\tlosss.append(sum(l)/len(x))\n",
    "\treturn(acc, losss, w1, w2)\n",
    "\n",
    "def predict(x, w1, w2):\n",
    "\tOut = f_forward(x, w1, w2)\n",
    "\tmaxm = 0\n",
    "\tk = 0\n",
    "\tfor i in range(len(Out[0])):\n",
    "\t\tif(maxm<Out[0][i]):\n",
    "\t\t\tmaxm = Out[0][i]\n",
    "\t\t\tk = i\n",
    "\tif(k == 0):\n",
    "\t\tprint(\"Image is of letter A.\")\n",
    "\telif(k == 1):\n",
    "\t\tprint(\"Image is of letter B.\")\n",
    "\telse:\n",
    "\t\tprint(\"Image is of letter C.\")\n",
    "\tplt.imshow(x.reshape(5, 6))\n",
    "\tplt.show() \n",
    "\n",
    "\n"
   ]
  },
  {
   "cell_type": "code",
   "execution_count": 5,
   "id": "d866c568",
   "metadata": {},
   "outputs": [
    {
     "name": "stdout",
     "output_type": "stream",
     "text": [
      "[[ 1.39986589 -1.15116247 -0.51380063 -0.93160387 -0.06488057]\n",
      " [-0.48860211 -0.07877548 -0.91503468 -0.33052908 -0.20764799]\n",
      " [ 0.54504857  0.18256966 -0.12749857 -0.1473971  -0.64379052]\n",
      " [ 1.21144211 -0.68331721  0.13963638  0.11751267 -0.18740213]\n",
      " [-0.78845633  0.59205973  0.93407548  1.42900245  1.16016451]\n",
      " [-1.06233583  0.4447093  -1.33680877  0.8546441   2.18483833]\n",
      " [ 0.75324153 -1.12957006 -0.6070925   1.18560127 -2.06140188]\n",
      " [ 1.36068362  0.47806793 -1.96507905 -0.60080868  0.89032889]\n",
      " [-0.01057996  1.0094367   1.02855217  0.10471725 -1.49234578]\n",
      " [-0.65209294 -0.29053965 -1.98646573 -0.32626442 -1.44123815]\n",
      " [ 0.6510506   1.10404625  0.52322022  0.32811864 -1.48903588]\n",
      " [ 0.97133567 -0.44564222  0.1155109  -1.67823044  2.14979237]\n",
      " [ 1.92512144  0.60605987 -0.45328809  0.82706706 -0.61899309]\n",
      " [ 2.34585431  0.00490545 -1.07688519 -1.9488169  -0.13198528]\n",
      " [-0.763805   -1.64021955 -1.56642254 -0.66212674  0.23835371]\n",
      " [ 1.64286716  1.37796    -1.67571318  0.21963718  0.23804102]\n",
      " [-0.87321477  0.87729013 -2.0130444   0.36342048  1.07150333]\n",
      " [ 0.88951056  1.25872157 -0.13953952 -0.39842712  1.74562828]\n",
      " [ 2.16016229 -2.05110586 -0.10610898 -1.50821016 -1.64945174]\n",
      " [-0.29533313  0.84090977  1.1088225   2.21719614 -1.18202001]\n",
      " [-0.82199652 -0.22116635 -0.33868034  0.58144405 -1.94652479]\n",
      " [-0.4223781   0.55517757 -2.20097616  0.93869157  0.36060961]\n",
      " [ 0.14371385 -1.10142079 -1.53917364 -1.23358383 -0.71845584]\n",
      " [-0.12580458 -1.16798244  0.05558977  0.83039032  0.58131126]\n",
      " [ 0.13081018  1.08510072  0.55657711  0.65415618  1.39829786]\n",
      " [ 0.49822986 -0.0310934   0.85301429 -2.23624568 -0.79298278]\n",
      " [ 1.03494043  0.25982275 -0.79150414  0.4023516  -0.57955525]\n",
      " [ 0.3300984   0.0121052  -1.29932098  0.50546859 -0.38141502]\n",
      " [-0.38565236 -0.33197306 -1.36031784  0.47882413  1.77129518]\n",
      " [-0.0921549  -0.5817529  -0.17418177  0.32351611  0.02111797]] \n",
      "\n",
      " [[-0.14558237 -0.13778382 -0.6754955 ]\n",
      " [-0.60160272  0.57701492 -0.05548251]\n",
      " [-0.14996104 -1.79917305  1.07342063]\n",
      " [-0.28420788  0.09106128 -0.05794113]\n",
      " [-0.96384621 -0.58805837 -1.18432774]]\n"
     ]
    }
   ],
   "source": [
    "w1 = generate_wt(30, 5)\n",
    "w2 = generate_wt(5, 3)\n",
    "print(w1, \"\\n\\n\", w2)\n"
   ]
  },
  {
   "cell_type": "code",
   "execution_count": 6,
   "id": "90623ced",
   "metadata": {},
   "outputs": [
    {
     "name": "stdout",
     "output_type": "stream",
     "text": [
      "epochs: 1 ======== acc: 75.51979291523054\n",
      "epochs: 2 ======== acc: 76.14946283494365\n",
      "epochs: 3 ======== acc: 76.67484369425343\n",
      "epochs: 4 ======== acc: 77.12781029957225\n",
      "epochs: 5 ======== acc: 77.5312811929072\n",
      "epochs: 6 ======== acc: 77.90151114423642\n",
      "epochs: 7 ======== acc: 78.24986704797702\n",
      "epochs: 8 ======== acc: 78.58416399719262\n",
      "epochs: 9 ======== acc: 78.90966424827484\n",
      "epochs: 10 ======== acc: 79.22981696409062\n",
      "epochs: 11 ======== acc: 79.5467949128471\n",
      "epochs: 12 ======== acc: 79.86187467628842\n",
      "epochs: 13 ======== acc: 80.17570243464533\n",
      "epochs: 14 ======== acc: 80.48848127896116\n",
      "epochs: 15 ======== acc: 80.80010699501695\n",
      "epochs: 16 ======== acc: 81.11026974026134\n",
      "epochs: 17 ======== acc: 81.41853152552764\n",
      "epochs: 18 ======== acc: 81.72438488534195\n",
      "epochs: 19 ======== acc: 82.02729612300558\n",
      "epochs: 20 ======== acc: 82.32673600361902\n",
      "epochs: 21 ======== acc: 82.6222007710484\n",
      "epochs: 22 ======== acc: 82.91322628716925\n",
      "epochs: 23 ======== acc: 83.19939772069013\n",
      "epochs: 24 ======== acc: 83.4803565954758\n",
      "epochs: 25 ======== acc: 83.75580630410063\n",
      "epochs: 26 ======== acc: 84.02551656138252\n",
      "epochs: 27 ======== acc: 84.28932681677223\n",
      "epochs: 28 ======== acc: 84.54714839508807\n",
      "epochs: 29 ======== acc: 84.79896506867978\n",
      "epochs: 30 ======== acc: 85.04483182787195\n",
      "epochs: 31 ======== acc: 85.28487175158202\n",
      "epochs: 32 ======== acc: 85.51927103658596\n",
      "epochs: 33 ======== acc: 85.74827238808152\n",
      "epochs: 34 ======== acc: 85.97216708800566\n",
      "epochs: 35 ======== acc: 86.19128613545975\n",
      "epochs: 36 ======== acc: 86.40599089765398\n",
      "epochs: 37 ======== acc: 86.61666372526872\n",
      "epochs: 38 ======== acc: 86.82369897836186\n",
      "epochs: 39 ======== acc: 87.02749488175743\n",
      "epochs: 40 ======== acc: 87.22844658449559\n",
      "epochs: 41 ======== acc: 87.42694073813021\n",
      "epochs: 42 ======== acc: 87.62335183615487\n",
      "epochs: 43 ======== acc: 87.81804047674441\n",
      "epochs: 44 ======== acc: 88.01135363153703\n",
      "epochs: 45 ======== acc: 88.20362693525139\n",
      "epochs: 46 ======== acc: 88.39518896668889\n",
      "epochs: 47 ======== acc: 88.58636748242864\n",
      "epochs: 48 ======== acc: 88.77749759872862\n",
      "epochs: 49 ======== acc: 88.9689319989779\n",
      "epochs: 50 ======== acc: 89.16105337287455\n",
      "epochs: 51 ======== acc: 89.35428946376895\n",
      "epochs: 52 ======== acc: 89.5491313007454\n",
      "epochs: 53 ======== acc: 89.7461554000359\n",
      "epochs: 54 ======== acc: 89.94605089199055\n",
      "epochs: 55 ======== acc: 90.14965257210892\n",
      "epochs: 56 ======== acc: 90.35798059263512\n",
      "epochs: 57 ======== acc: 90.57228650724313\n",
      "epochs: 58 ======== acc: 90.79410287739266\n",
      "epochs: 59 ======== acc: 91.02528821055618\n",
      "epochs: 60 ======== acc: 91.26804822273161\n",
      "epochs: 61 ======== acc: 91.52489496480538\n",
      "epochs: 62 ======== acc: 91.7984747086699\n",
      "epochs: 63 ======== acc: 92.09115881268485\n",
      "epochs: 64 ======== acc: 92.40427904318261\n",
      "epochs: 65 ======== acc: 92.73697924793211\n",
      "epochs: 66 ======== acc: 93.08496292365909\n",
      "epochs: 67 ======== acc: 93.43991758109394\n",
      "epochs: 68 ======== acc: 93.79060337909479\n",
      "epochs: 69 ======== acc: 94.12572402252556\n",
      "epochs: 70 ======== acc: 94.43705773296351\n",
      "epochs: 71 ======== acc: 94.7208795672221\n",
      "epochs: 72 ======== acc: 94.97727338177087\n",
      "epochs: 73 ======== acc: 95.20850096325695\n",
      "epochs: 74 ======== acc: 95.41759844843999\n",
      "epochs: 75 ======== acc: 95.607579329271\n",
      "epochs: 76 ======== acc: 95.78111278843082\n",
      "epochs: 77 ======== acc: 95.94045445334565\n",
      "epochs: 78 ======== acc: 96.08747918588503\n",
      "epochs: 79 ======== acc: 96.22374222419047\n",
      "epochs: 80 ======== acc: 96.35053960513855\n",
      "epochs: 81 ======== acc: 96.4689591252394\n",
      "epochs: 82 ======== acc: 96.57992091058823\n",
      "epochs: 83 ======== acc: 96.68420909468463\n",
      "epochs: 84 ======== acc: 96.7824965060221\n",
      "epochs: 85 ======== acc: 96.87536403016685\n",
      "epochs: 86 ======== acc: 96.96331594621776\n",
      "epochs: 87 ======== acc: 97.0467922089559\n",
      "epochs: 88 ======== acc: 97.12617839181982\n",
      "epochs: 89 ======== acc: 97.20181381706706\n",
      "epochs: 90 ======== acc: 97.2739982633735\n",
      "epochs: 91 ======== acc: 97.34299754347133\n",
      "epochs: 92 ======== acc: 97.40904817407281\n",
      "epochs: 93 ======== acc: 97.47236130916355\n",
      "epochs: 94 ======== acc: 97.53312607009047\n",
      "epochs: 95 ======== acc: 97.59151237777675\n",
      "epochs: 96 ======== acc: 97.64767337115067\n",
      "epochs: 97 ======== acc: 97.70174747959369\n",
      "epochs: 98 ======== acc: 97.75386020457427\n",
      "epochs: 99 ======== acc: 97.80412565570778\n",
      "epochs: 100 ======== acc: 97.85264787860434\n"
     ]
    }
   ],
   "source": [
    "\"\"\"The arguments of train function are data set list x, \n",
    "correct labels y, weights w1, w2, learning rate = 0.1, \n",
    "no of epochs or iteration.The function will return the\n",
    "matrix of accuracy and loss and also the matrix of \n",
    "trained weights w1, w2\"\"\"\n",
    "\n",
    "acc, losss, w1, w2 = train(x, y, w1, w2, 0.1, 100)\n"
   ]
  },
  {
   "cell_type": "code",
   "execution_count": 7,
   "id": "2b35b2fa",
   "metadata": {},
   "outputs": [
    {
     "data": {
      "image/png": "[encoded data removed]",
      "text/plain": [
       "<Figure size 640x480 with 1 Axes>"
      ]
     },
     "metadata": {},
     "output_type": "display_data"
    },
    {
     "data": {
      "image/png": "[encoded data removed]",
      "text/plain": [
       "<Figure size 640x480 with 1 Axes>"
      ]
     },
     "metadata": {},
     "output_type": "display_data"
    }
   ],
   "source": [
    "import matplotlib.pyplot as plt1\n",
    "\n",
    "# plotting accuracy\n",
    "plt1.plot(acc)\n",
    "plt1.ylabel('Accuracy')\n",
    "plt1.xlabel(\"Epochs:\")\n",
    "plt1.show()\n",
    "\n",
    "# plotting Loss\n",
    "plt1.plot(losss)\n",
    "plt1.ylabel('Loss')\n",
    "plt1.xlabel(\"Epochs:\")\n",
    "plt1.show()\n"
   ]
  },
  {
   "cell_type": "code",
   "execution_count": 8,
   "id": "97b3d331",
   "metadata": {},
   "outputs": [
    {
     "name": "stdout",
     "output_type": "stream",
     "text": [
      "[[ 1.39986589 -1.15116247 -0.51380063 -0.93160387 -0.06488057]\n",
      " [-0.49677677  0.29999305 -0.27593609 -0.08166985 -0.54932731]\n",
      " [ 0.53690779  0.02963319  0.51298315 -0.0576345  -0.71483727]\n",
      " [ 1.20330133 -0.83625368  0.78011811  0.20727527 -0.25844888]\n",
      " [-0.796631    0.97082826  1.57317406  1.67786169  0.81848519]\n",
      " [-1.06233583  0.4447093  -1.33680877  0.8546441   2.18483833]\n",
      " [ 0.75324153 -1.12957006 -0.6070925   1.18560127 -2.06140188]\n",
      " [ 1.35254285  0.32513146 -1.32459733 -0.51104608  0.81928215]\n",
      " [-0.01057996  1.0094367   1.02855217  0.10471725 -1.49234578]\n",
      " [-0.65209294 -0.29053965 -1.98646573 -0.32626442 -1.44123815]\n",
      " [ 0.65133566  0.95093304  0.48672104 -0.40258797 -1.3266296 ]\n",
      " [ 0.97133567 -0.44564222  0.1155109  -1.67823044  2.14979237]\n",
      " [ 1.92515533  0.07435487 -0.45190495  0.66797043 -0.34836052]\n",
      " [ 2.33771354 -0.14803102 -0.43640347 -1.8590543  -0.20303203]\n",
      " [-0.76351994 -1.79333276 -1.60292172 -1.39283335  0.40076   ]\n",
      " [ 1.64315222  1.2248468  -1.71221236 -0.51106942  0.40044731]\n",
      " [-0.87292971  0.72417693 -2.04954358 -0.36728613  1.23390961]\n",
      " [ 0.88954445  0.72701657 -0.13815638 -0.55752376  2.01626086]\n",
      " [ 2.16019618 -2.58281086 -0.10472584 -1.66730679 -1.37881917]\n",
      " [-0.30350779  1.2196783   1.74792108  2.46605538 -1.52369933]\n",
      " [-0.82199652 -0.22116635 -0.33868034  0.58144405 -1.94652479]\n",
      " [-0.4223781   0.55517757 -2.20097616  0.93869157  0.36060961]\n",
      " [ 0.14396502 -0.72282899 -1.57705596 -1.80519381 -0.82668213]\n",
      " [-0.12577069 -1.69968744  0.05697291  0.67129369  0.85194384]\n",
      " [ 0.13084407  0.55339572  0.55796025  0.49505955  1.66893044]\n",
      " [ 0.49005519  0.34767513  1.49211288 -1.98738644 -1.1346621 ]\n",
      " [ 1.02676577  0.63859128 -0.15240555  0.65121083 -0.92123458]\n",
      " [ 0.32192374  0.39087373 -0.6602224   0.75432782 -0.72309435]\n",
      " [-0.39382703  0.04679547 -0.72121925  0.72768337  1.42961586]\n",
      " [-0.09212102 -1.1134579  -0.17279863  0.16441948  0.29175055]] \n",
      " [[ 0.3785656  -0.30770408 -1.40660582]\n",
      " [-2.67819436  1.65504648  0.02889317]\n",
      " [-0.29004375 -2.32345597  1.72393006]\n",
      " [-1.37391153 -1.17282251  1.8770395 ]\n",
      " [ 1.6389953  -1.98332421 -1.86489037]]\n"
     ]
    }
   ],
   "source": [
    "# the trained weights are\n",
    "print(w1, \"\\n\", w2)\n"
   ]
  },
  {
   "cell_type": "code",
   "execution_count": 9,
   "id": "b7926364",
   "metadata": {},
   "outputs": [
    {
     "name": "stdout",
     "output_type": "stream",
     "text": [
      "Image is of letter B.\n"
     ]
    },
    {
     "data": {
      "image/png": "[encoded data removed]",
      "text/plain": [
       "<Figure size 640x480 with 1 Axes>"
      ]
     },
     "metadata": {},
     "output_type": "display_data"
    }
   ],
   "source": [
    "\"\"\"\n",
    "The predict function will take the following arguments:\n",
    "1) image matrix\n",
    "2) w1 trained weights\n",
    "3) w2 trained weights\n",
    "\"\"\"\n",
    "predict(x[1], w1, w2)\n"
   ]
  },
  {
   "cell_type": "code",
   "execution_count": null,
   "id": "c836867a",
   "metadata": {},
   "outputs": [],
   "source": []
  }
 ],
 "metadata": {
  "kernelspec": {
   "display_name": "Python 3 (ipykernel)",
   "language": "python",
   "name": "python3"
  },
  "language_info": {
   "codemirror_mode": {
    "name": "ipython",
    "version": 3
   },
   "file_extension": ".py",
   "mimetype": "text/x-python",
   "name": "python",
   "nbconvert_exporter": "python",
   "pygments_lexer": "ipython3",
   "version": "3.11.5"
  }
 },
 "nbformat": 4,
 "nbformat_minor": 5
}
